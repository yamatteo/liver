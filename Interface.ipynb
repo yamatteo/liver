{
 "cells": [
  {
   "cell_type": "markdown",
   "id": "492683a0-6fb8-4a12-a6ca-d227a3fb6fc9",
   "metadata": {},
   "source": [
    "# Liver interface\n",
    "\n",
    "Just run this single cell. After some minutes you'll be able to use the generated interface for everything else."
   ]
  },
  {
   "cell_type": "code",
   "execution_count": 1,
   "id": "b3647941-d3c0-42df-ad8f-23b032250801",
   "metadata": {
    "tags": []
   },
   "outputs": [
    {
     "data": {
      "application/vnd.jupyter.widget-view+json": {
       "model_id": "fe7efa20a98d412ab3393e96c4af8fc5",
       "version_major": 2,
       "version_minor": 0
      },
      "text/plain": [
       "Tab(children=(HBox(children=(VBox(children=(HTML(value='<h3>Set these variables</h3>'), Text(value='COLAB', de…"
      ]
     },
     "metadata": {},
     "output_type": "display_data"
    }
   ],
   "source": [
    "#@title\n",
    "%%capture --no-display \n",
    "import os\n",
    "try:\n",
    "    from dotenv import load_dotenv\n",
    "    load_dotenv()\n",
    "except: pass\n",
    "environment = os.getenv(\"LIVER_ENVIRONMENT\", \"colab\")\n",
    "\n",
    "if environment == \"local\":\n",
    "    drive_mount = \"/mnt/chromeos/GoogleDrive\"\n",
    "elif environment == \"colab\":\n",
    "    from google.colab import drive\n",
    "    drive.mount(\"/content/drive\")\n",
    "    drive_mount=\"/content/drive\"\n",
    "    \n",
    "    %cd /content\n",
    "    !apt install elastix libgdcm-tools\n",
    "\n",
    "    !git clone https://github.com/yamatteo/liver.git /content/liver\n",
    "    !git clone https://github.com/AIM-Harvard/pyradiomics.git /content/radiomics\n",
    "\n",
    "    %cd /content/liver \n",
    "    !git fetch origin july_rewrite \n",
    "    !git checkout july_rewrite\n",
    "    !git pull origin july_rewrite\n",
    "    !pip install -r requirements.txt\n",
    "    \n",
    "import components\n",
    "\n",
    "state, tab = components.get_new_interface()\n",
    "\n",
    "state.environment = environment\n",
    "state.drive_folder = \"COLAB\"\n",
    "state.drive_mount = drive_mount\n",
    "\n",
    "display(tab)"
   ]
  },
  {
   "cell_type": "code",
   "execution_count": null,
   "id": "f1d49d45-ac02-4dd2-a703-cd65cc35481b",
   "metadata": {},
   "outputs": [],
   "source": [
    "from importlib import reload\n",
    "from pathlib import Path\n",
    "\n",
    "import torch\n",
    "\n",
    "import model.hunet, model.block, model.data\n",
    "import report\n",
    "from model.hunet import HunetNetwork\n",
    "!wandb login 6e44b780601adbcb29c5322b462b5da80078222e"
   ]
  },
  {
   "cell_type": "code",
   "execution_count": null,
   "id": "d15298cc-abc0-48a1-9f40-6b2a73719735",
   "metadata": {},
   "outputs": [],
   "source": [
    "reload(model.block)\n",
    "reload(model.data)\n",
    "reload(model.hunet)\n",
    "\n",
    "dataset_path = Path(\"/data\")\n",
    "dataset_path.mkdir(exist_ok=True)\n",
    "model.data.store_dataset(Path(\"/content/drive/MyDrive\") / \"COLAB\", dataset_path, slice_shape=(512, 512, 40))\n"
   ]
  },
  {
   "cell_type": "code",
   "execution_count": null,
   "id": "bf335545-11b3-4ca4-87c7-bf0a0b77e8fb",
   "metadata": {},
   "outputs": [],
   "source": [
    "reload(report)\n",
    "reload(model.block)\n",
    "reload(model.data)\n",
    "reload(model.hunet)\n",
    "\n",
    "dataset_path = Path(\"/data\")\n",
    "device = torch.device(\"cuda\") if torch.cuda.is_available() else torch.device(\"cpu\")\n",
    "nw = model.hunet.HunetNetwork(dataset_path, device)\n",
    "models_path = Path(\"/content/liver/model/saved_models\")\n",
    "nw.train(models_path=models_path)"
   ]
  },
  {
   "cell_type": "code",
   "execution_count": null,
   "id": "ecdf7b71-ebcb-41c4-b35a-3a7845009b33",
   "metadata": {},
   "outputs": [],
   "source": [
    "# !git status\n",
    "# !git config --global user.email \"yamatteo@gmail.com\"\n",
    "# !git config --global user.name \"Matteo Bortolotto\"\n",
    "# !git add .\n",
    "# !git commit -m \"debug\"\n",
    "# !git push https://github.com/yamatteo/liver.git"
   ]
  }
 ],
 "metadata": {
  "kernelspec": {
   "display_name": "Python 3 (ipykernel)",
   "language": "python",
   "name": "python3"
  },
  "language_info": {
   "codemirror_mode": {
    "name": "ipython",
    "version": 3
   },
   "file_extension": ".py",
   "mimetype": "text/x-python",
   "name": "python",
   "nbconvert_exporter": "python",
   "pygments_lexer": "ipython3",
   "version": "3.7.13"
  }
 },
 "nbformat": 4,
 "nbformat_minor": 5
}
