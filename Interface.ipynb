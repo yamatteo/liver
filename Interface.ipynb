{
 "cells": [
  {
   "cell_type": "markdown",
   "id": "492683a0-6fb8-4a12-a6ca-d227a3fb6fc9",
   "metadata": {},
   "source": [
    "# Liver interface\n",
    "\n",
    "Just run this single cell. After some minutes you'll be able to use the generated interface for everything else."
   ]
  },
  {
   "cell_type": "code",
   "execution_count": 1,
   "id": "b3647941-d3c0-42df-ad8f-23b032250801",
   "metadata": {
    "tags": []
   },
   "outputs": [
    {
     "data": {
      "application/vnd.jupyter.widget-view+json": {
       "model_id": "fe7efa20a98d412ab3393e96c4af8fc5",
       "version_major": 2,
       "version_minor": 0
      },
      "text/plain": [
       "Tab(children=(HBox(children=(VBox(children=(HTML(value='<h3>Set these variables</h3>'), Text(value='COLAB', de…"
      ]
     },
     "metadata": {},
     "output_type": "display_data"
    }
   ],
   "source": [
    "#@title\n",
    "%%capture --no-display \n",
    "import os\n",
    "try:\n",
    "    from dotenv import load_dotenv\n",
    "    load_dotenv()\n",
    "except: pass\n",
    "environment = os.getenv(\"LIVER_ENVIRONMENT\", \"colab\")\n",
    "\n",
    "if environment == \"local\":\n",
    "    drive_mount = \"/mnt/chromeos/GoogleDrive\"\n",
    "elif environment == \"gce\":\n",
    "    from google.colab import drive\n",
    "    drive_mount=\"/content/drive\"\n",
    "\n",
    "    %cd /content/liver \n",
    "    !git fetch origin july_rewrite \n",
    "    !git checkout july_rewrite\n",
    "    !git pull origin july_rewrite\n",
    "    !pip install -r requirements.txt\n",
    "elif environment == \"colab\":\n",
    "    from google.colab import drive\n",
    "    drive.mount(\"/content/drive\")\n",
    "    drive_mount=\"/content/drive\"\n",
    "    \n",
    "    %cd /content\n",
    "    !apt install elastix libgdcm-tools\n",
    "\n",
    "    !git clone https://github.com/yamatteo/liver.git /content/liver\n",
    "    !git clone https://github.com/AIM-Harvard/pyradiomics.git /content/radiomics\n",
    "\n",
    "    %cd /content/liver \n",
    "    !git fetch origin july_rewrite \n",
    "    !git checkout july_rewrite\n",
    "    !git pull origin july_rewrite\n",
    "    !pip install -r requirements.txt\n",
    "    \n",
    "import components\n",
    "\n",
    "state, tab = components.get_new_interface()\n",
    "\n",
    "state.environment = environment\n",
    "state.drive_folder = \"COLAB\"\n",
    "state.drive_mount = drive_mount\n",
    "\n",
    "display(tab)"
   ]
  }
 ],
 "metadata": {
  "kernelspec": {
   "display_name": "Python 3 (ipykernel)",
   "language": "python",
   "name": "python3"
  },
  "language_info": {
   "codemirror_mode": {
    "name": "ipython",
    "version": 3
   },
   "file_extension": ".py",
   "mimetype": "text/x-python",
   "name": "python",
   "nbconvert_exporter": "python",
   "pygments_lexer": "ipython3",
   "version": "3.7.13"
  }
 },
 "nbformat": 4,
 "nbformat_minor": 5
}
